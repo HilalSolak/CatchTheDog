{
  "nbformat": 4,
  "nbformat_minor": 0,
  "metadata": {
    "colab": {
      "provenance": [],
      "authorship_tag": "ABX9TyPBhBf9i5gdp1myRck0IBaZ",
      "include_colab_link": true
    },
    "kernelspec": {
      "name": "python3",
      "display_name": "Python 3"
    },
    "language_info": {
      "name": "python"
    }
  },
  "cells": [
    {
      "cell_type": "markdown",
      "metadata": {
        "id": "view-in-github",
        "colab_type": "text"
      },
      "source": [
        "<a href=\"https://colab.research.google.com/github/HilalSolak/CatchTheDog/blob/master/Untitled0.ipynb\" target=\"_parent\"><img src=\"https://colab.research.google.com/assets/colab-badge.svg\" alt=\"Open In Colab\"/></a>"
      ]
    },
    {
      "cell_type": "code",
      "execution_count": 10,
      "metadata": {
        "colab": {
          "base_uri": "https://localhost:8080/"
        },
        "id": "cSvZslS2tszN",
        "outputId": "20365b89-87a2-4b97-f9f6-6cc281b87b11"
      },
      "outputs": [
        {
          "output_type": "stream",
          "name": "stdout",
          "text": [
            "tensor([[0.4892],\n",
            "        [0.5566]], grad_fn=<MulBackward0>)\n"
          ]
        }
      ],
      "source": [
        "import torch\n",
        "\n",
        "# Seed değerini ayarla\n",
        "torch.manual_seed(1)\n",
        "\n",
        "# X matrisi tensöre çevirilir\n",
        "X = torch.tensor([[1, 2, 3], [4, 5, 6]], dtype=torch.float)\n",
        "\n",
        "# Yapay sinir ağı sınıfı tanımlanır\n",
        "class NeuralNetwork(torch.nn.Module):\n",
        "    \n",
        "    def __init__(self, input_size, hidden_size, output_size):\n",
        "        super(NeuralNetwork, self).__init__()\n",
        "        self.hidden_layer = torch.nn.Linear(input_size, hidden_size)\n",
        "        self.output_layer = torch.nn.Linear(hidden_size, output_size)\n",
        "        \n",
        "    def sigmoid(self, x):\n",
        "        return 1 / (1 + torch.exp(-x))\n",
        "    \n",
        "    def tanh(self, x):\n",
        "        return (torch.exp(x) - torch.exp(-x)) / (torch.exp(x) + torch.exp(-x))\n",
        "    \n",
        "    def forward(self, x):\n",
        "        # Hidden layer'da tanh aktivasyon fonksiyonu kullanılır\n",
        "        hidden_output = self.tanh(self.hidden_layer(x))\n",
        "        # Output layer'da sigmoid aktivasyon fonksiyonu kullanılır\n",
        "        output = self.sigmoid(self.output_layer(hidden_output))\n",
        "        return output\n",
        "\n",
        "# Yapay sinir ağı nesnesi oluşturulur\n",
        "neural_net = NeuralNetwork(3, 50, 1)\n",
        "\n",
        "# Yapay sinir ağının çıktısı hesaplanır\n",
        "output = neural_net(X)\n",
        "print(output)"
      ]
    },
    {
      "cell_type": "code",
      "execution_count": 11,
      "metadata": {
        "colab": {
          "base_uri": "https://localhost:8080/"
        },
        "outputId": "c2dbc2f2-b523-4229-b930-7ed903fd83b7",
        "id": "FJZVVUVgwiAB"
      },
      "outputs": [
        {
          "output_type": "stream",
          "name": "stdout",
          "text": [
            "tensor([[0.5255],\n",
            "        [0.5461]], grad_fn=<MulBackward0>)\n"
          ]
        }
      ],
      "source": [
        "import torch\n",
        "\n",
        "# Seed değerini ayarla\n",
        "torch.manual_seed(190401020)#öğrenci numaram\n",
        "\n",
        "# X matrisi tensöre çevirilir\n",
        "X = torch.tensor([[1, 2, 3], [4, 5, 6]], dtype=torch.float)\n",
        "\n",
        "# Yapay sinir ağı sınıfı tanımlanır\n",
        "class NeuralNetwork(torch.nn.Module):\n",
        "    \n",
        "    def __init__(self, input_size, hidden_size, output_size):\n",
        "        super(NeuralNetwork, self).__init__()\n",
        "        self.hidden_layer = torch.nn.Linear(input_size, hidden_size)\n",
        "        self.output_layer = torch.nn.Linear(hidden_size, output_size)\n",
        "        \n",
        "    def sigmoid(self, x):\n",
        "        return 1 / (1 + torch.exp(-x))\n",
        "    \n",
        "    def tanh(self, x):\n",
        "        return (torch.exp(x) - torch.exp(-x)) / (torch.exp(x) + torch.exp(-x))\n",
        "    \n",
        "    def forward(self, x):\n",
        "        # Hidden layer'da tanh aktivasyon fonksiyonu kullanılır\n",
        "        hidden_output = self.tanh(self.hidden_layer(x))\n",
        "        # Output layer'da sigmoid aktivasyon fonksiyonu kullanılır\n",
        "        output = self.sigmoid(self.output_layer(hidden_output))\n",
        "        return output\n",
        "\n",
        "# Yapay sinir ağı nesnesi oluşturulur\n",
        "neural_net = NeuralNetwork(3, 50, 1)\n",
        "\n",
        "# Yapay sinir ağının çıktısı hesaplanır\n",
        "output = neural_net(X)\n",
        "print(output)"
      ]
    }
  ]
}